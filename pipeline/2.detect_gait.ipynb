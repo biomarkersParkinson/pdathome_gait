{
 "cells": [
  {
   "cell_type": "markdown",
   "metadata": {},
   "source": [
    "# Modules"
   ]
  },
  {
   "cell_type": "code",
   "execution_count": 1,
   "metadata": {},
   "outputs": [],
   "source": [
    "import numpy as np\n",
    "import os\n",
    "import pandas as pd\n",
    "import sys\n",
    "\n",
    "# if you are unable to load pdathome.constants, you need to add the path to the src folder to the system path\n",
    "sys.path.append(os.path.abspath(os.path.join('..', 'src')))\n",
    "\n",
    "from pdathome.classification import cv_train_test_model, windows_to_timestamps, store_model\n",
    "from pdathome.constants import classifiers, columns, participant_ids, paths\n",
    "from pdathome.load import load_dataframes_directory\n",
    "\n",
    "from paradigma.gait_analysis_config import GaitFeatureExtractionConfig"
   ]
  },
  {
   "cell_type": "markdown",
   "metadata": {},
   "source": [
    "# Constants"
   ]
  },
  {
   "cell_type": "code",
   "execution_count": 2,
   "metadata": {},
   "outputs": [],
   "source": [
    "classifier = classifiers.RANDOM_FOREST\n",
    "target_colname = columns.GAIT_MAJORITY_VOTING"
   ]
  },
  {
   "cell_type": "markdown",
   "metadata": {},
   "source": [
    "# Process data"
   ]
  },
  {
   "cell_type": "code",
   "execution_count": 4,
   "metadata": {},
   "outputs": [],
   "source": [
    "# Initialize configuration\n",
    "config = GaitFeatureExtractionConfig()\n",
    "\n",
    "# Define predictors\n",
    "l_predictors = list(config.d_channels_values.keys())\n",
    "l_predictors_scale = [x for x in l_predictors if 'dominant' not in x]\n",
    "\n",
    "# Load data\n",
    "df_all_subjects = load_dataframes_directory(\n",
    "    directory_path=paths.PATH_GAIT_FEATURES,\n",
    "    l_ids=participant_ids.L_PD_IDS + participant_ids.L_HC_IDS\n",
    ")\n",
    "\n",
    "# Lists to store results\n",
    "l_thresholds = []\n",
    "l_importances = []\n",
    "\n",
    "# Iterate over subjects and process data\n",
    "for subject in participant_ids.L_PD_IDS + participant_ids.L_HC_IDS:\n",
    "    print(f\"Processing subject {subject}\")\n",
    "    df_subject = df_all_subjects[df_all_subjects[columns.ID] == subject]\n",
    "\n",
    "    # Train and test model\n",
    "    df_test, classification_threshold, importances = cv_train_test_model(\n",
    "        subject=subject,\n",
    "        df=df_all_subjects,\n",
    "        model=classifier,\n",
    "        l_predictors=l_predictors,\n",
    "        l_predictors_scale=l_predictors_scale,\n",
    "        target_column_name=target_colname, \n",
    "        pred_proba_colname=columns.PRED_GAIT_PROBA,\n",
    "        pred_colname=columns.PRED_GAIT,\n",
    "        step='gait'\n",
    "    )\n",
    "   \n",
    "    # Collect thresholds and importances\n",
    "    l_thresholds.append(classification_threshold)\n",
    "    l_importances.append(importances)\n",
    "\n",
    "    # Save predictions\n",
    "    windows_to_timestamps(\n",
    "        subject=subject, df=df_test,\n",
    "        path_output=paths.PATH_GAIT_PREDICTIONS, \n",
    "        pred_proba_colname=columns.PRED_GAIT_PROBA,\n",
    "        step='gait'\n",
    "    )\n",
    "    \n",
    "# Save average threshold\n",
    "mean_threshold = np.mean(l_thresholds)\n",
    "with open(os.path.join(paths.PATH_THRESHOLDS, 'gait_threshold.txt'), 'w') as f:\n",
    "    f.write(str(mean_threshold))\n",
    "\n",
    "# Save importances\n",
    "with open(os.path.join(paths.PATH_CLASSIFIERS, f'{classifier}_importances.txt'), 'w') as f:\n",
    "    # Flatten the list of dictionaries and format them\n",
    "    all_importances = pd.concat([pd.Series(imp) for imp in l_importances], axis=1).mean(axis=1)\n",
    "    for feature, importance in all_importances.items():\n",
    "        f.write(f'{feature}: {importance}\\n')\n",
    "\n",
    "store_model(\n",
    "    df=df_all_subjects,\n",
    "    model=classifier,\n",
    "    l_predictors=l_predictors,\n",
    "    l_predictors_scale=l_predictors_scale,\n",
    "    target_column_name=target_colname,\n",
    "    path_scalers=paths.PATH_SCALERS,\n",
    "    path_classifiers=paths.PATH_CLASSIFIERS,\n",
    "    step='gait'\n",
    ")"
   ]
  }
 ],
 "metadata": {
  "kernelspec": {
   "display_name": "gait-3c0zjlKo-py3.11",
   "language": "python",
   "name": "python3"
  },
  "language_info": {
   "codemirror_mode": {
    "name": "ipython",
    "version": 3
   },
   "file_extension": ".py",
   "mimetype": "text/x-python",
   "name": "python",
   "nbconvert_exporter": "python",
   "pygments_lexer": "ipython3",
   "version": "3.11.5"
  }
 },
 "nbformat": 4,
 "nbformat_minor": 2
}
