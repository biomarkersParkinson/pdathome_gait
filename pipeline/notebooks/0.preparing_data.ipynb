{
 "cells": [
  {
   "cell_type": "markdown",
   "metadata": {},
   "source": [
    "# Preparing data\n",
    "This script syncronizes the sensor data and video annotations.\n",
    "\n",
    "Execution time $\\approx$ 30 seconds per participant (amount to 25 minutes in total)."
   ]
  },
  {
   "cell_type": "markdown",
   "metadata": {},
   "source": [
    "### Modules"
   ]
  },
  {
   "cell_type": "code",
   "execution_count": 1,
   "metadata": {},
   "outputs": [],
   "source": [
    "import datetime\n",
    "import json\n",
    "import os\n",
    "\n",
    "from pdathome.constants import global_constants as gc\n",
    "from pdathome.preprocessing import determine_wrist_pos, prepare_data"
   ]
  },
  {
   "cell_type": "markdown",
   "metadata": {},
   "source": [
    "### Processing"
   ]
  },
  {
   "cell_type": "code",
   "execution_count": 8,
   "metadata": {},
   "outputs": [
    {
     "name": "stdout",
     "output_type": "stream",
     "text": [
      "Time 2024-12-30 14:17:23.388000 - Processing hbv002 (1/21)\n"
     ]
    }
   ],
   "source": [
    "ids = gc.participant_ids.PD_IDS\n",
    "\n",
    "with open(os.path.join(gc.paths.PATH_CLINICAL_DATA, 'distribution_participants.json'), 'r') as f:\n",
    "    d_participant_distribution = json.load(f)\n",
    "\n",
    "start = datetime.datetime.now()\n",
    "for subject in ids:\n",
    "    print(f\"Time {datetime.datetime.now()} - Processing {subject} ({ids.index(subject) + 1}/{len(ids)})\")\n",
    "    for affected_side in [gc.descriptives.MOST_AFFECTED_SIDE, gc.descriptives.LEAST_AFFECTED_SIDE]:\n",
    "        wrist = determine_wrist_pos(subject, affected_side, d_participant_distribution)        \n",
    "        df = prepare_data(subject, wrist)\n",
    "\n",
    "        df.to_parquet(os.path.join(gc.paths.PATH_PREPARED_DATA, f'{subject}_{affected_side}.parquet'))\n",
    "        "
   ]
  }
 ],
 "metadata": {
  "kernelspec": {
   "display_name": "pd-at-home-4UNzdMX4-py3.11",
   "language": "python",
   "name": "python3"
  },
  "language_info": {
   "codemirror_mode": {
    "name": "ipython",
    "version": 3
   },
   "file_extension": ".py",
   "mimetype": "text/x-python",
   "name": "python",
   "nbconvert_exporter": "python",
   "pygments_lexer": "ipython3",
   "version": "3.11.5"
  }
 },
 "nbformat": 4,
 "nbformat_minor": 2
}
