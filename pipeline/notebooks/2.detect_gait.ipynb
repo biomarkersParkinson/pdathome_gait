{
 "cells": [
  {
   "cell_type": "markdown",
   "metadata": {},
   "source": [
    "# Detect gait\n",
    "This script use leave-one-subject-out cross-validation (LOSO-CV) to train a classifier on all but one participant (train set) and predict gait on the participant left out (test set). A classifier is subsequently stored by training on all participants.\n",
    "\n",
    "Execution time: "
   ]
  },
  {
   "cell_type": "markdown",
   "metadata": {},
   "source": [
    "### Modules"
   ]
  },
  {
   "cell_type": "code",
   "execution_count": 1,
   "metadata": {},
   "outputs": [],
   "source": [
    "from pdathome.classification import train_test_gait_detection, store_gait_detection\n",
    "from pdathome.constants import global_constants as gc"
   ]
  },
  {
   "cell_type": "markdown",
   "metadata": {},
   "source": [
    "### Constants"
   ]
  },
  {
   "cell_type": "code",
   "execution_count": 2,
   "metadata": {},
   "outputs": [],
   "source": [
    "l_classifiers = [gc.classifiers.RANDOM_FOREST]"
   ]
  },
  {
   "cell_type": "markdown",
   "metadata": {},
   "source": [
    "### Process data"
   ]
  },
  {
   "cell_type": "code",
   "execution_count": 4,
   "metadata": {},
   "outputs": [],
   "source": [
    "from paradigma.gait_analysis_config import GaitFeatureExtractionConfig\n",
    "from pdathome.load import load_dataframes_directory\n",
    "from pdathome.classification import cv_train_test_model\n",
    "\n",
    "subject = 'hbv002' \n",
    "l_ids = gc.participant_ids.L_PD_IDS + gc.participant_ids.L_HC_IDS\n",
    "config_class = GaitFeatureExtractionConfig\n",
    "l_classifiers = l_classifiers\n",
    "target_column_name = gc.columns.GAIT_MAJORITY_VOTING\n",
    "pred_proba_colname = gc.columns.PRED_GAIT_PROBA\n",
    "pred_colname = gc.columns.PRED_GAIT\n",
    "step = 'gait'\n",
    "path_features = gc.paths.PATH_GAIT_FEATURES\n",
    "path_predictions = gc.paths.PATH_GAIT_PREDICTIONS\n",
    "n_jobs = -1\n",
    "\n",
    "# Initialize configuration\n",
    "config = config_class()\n",
    "\n",
    "# Define predictors\n",
    "l_predictors = list(config.d_channels_values.keys())\n",
    "l_predictors_scale = [x for x in l_predictors if 'dominant' not in x]\n",
    "\n",
    "df_all_subjects = load_dataframes_directory(\n",
    "    directory_path=path_features,\n",
    "    l_ids=l_ids\n",
    ")\n",
    "\n",
    "for classifier_name in l_classifiers:\n",
    "\n",
    "    # Train and test model\n",
    "    df_test, classification_threshold = cv_train_test_model(\n",
    "        subject=subject,\n",
    "        df=df_all_subjects,\n",
    "        classifier_name=classifier_name,\n",
    "        l_predictors=l_predictors,\n",
    "        l_predictors_scale=l_predictors_scale,\n",
    "        target_column_name=target_column_name,\n",
    "        pred_proba_colname=pred_proba_colname,\n",
    "        n_jobs=n_jobs,\n",
    "        step=step,\n",
    "    )"
   ]
  },
  {
   "cell_type": "code",
   "execution_count": 1,
   "metadata": {},
   "outputs": [],
   "source": [
    "for subject in gc.participant_ids.L_PD_IDS + gc.participant_ids.L_PD_IDS:\n",
    "    train_test_gait_detection(subject, l_classifiers=l_classifiers)\n",
    "\n",
    "for classifier in l_classifiers:\n",
    "    store_gait_detection(classifier)"
   ]
  }
 ],
 "metadata": {
  "kernelspec": {
   "display_name": "gait-3c0zjlKo-py3.11",
   "language": "python",
   "name": "python3"
  },
  "language_info": {
   "codemirror_mode": {
    "name": "ipython",
    "version": 3
   },
   "file_extension": ".py",
   "mimetype": "text/x-python",
   "name": "python",
   "nbconvert_exporter": "python",
   "pygments_lexer": "ipython3",
   "version": "3.11.5"
  }
 },
 "nbformat": 4,
 "nbformat_minor": 2
}
