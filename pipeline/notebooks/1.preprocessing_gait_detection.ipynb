{
 "cells": [
  {
   "cell_type": "markdown",
   "metadata": {},
   "source": [
    "# Preprocessing gait detection\n",
    "This script preprocesses the sensor data, tabulates it into windows, and generates features. \n",
    "\n",
    "Execution time $\\approx$ 50s per participant (amounting to 35 minutes in total)."
   ]
  },
  {
   "cell_type": "markdown",
   "metadata": {},
   "source": [
    "### Modules"
   ]
  },
  {
   "cell_type": "code",
   "execution_count": 1,
   "metadata": {},
   "outputs": [],
   "source": [
    "from pdathome.constants import global_constants as gc\n",
    "from pdathome.preprocessing import preprocess_gait_detection"
   ]
  },
  {
   "cell_type": "markdown",
   "metadata": {},
   "source": [
    "### Process data"
   ]
  },
  {
   "cell_type": "code",
   "execution_count": null,
   "metadata": {},
   "outputs": [],
   "source": [
    "for subject in ['hbv002']:# gc.participant_ids.L_PD_IDS + gc.participant_ids.L_HC_IDS:\n",
    "    preprocess_gait_detection(subject)"
   ]
  }
 ],
 "metadata": {
  "kernelspec": {
   "display_name": "gait-3c0zjlKo-py3.11",
   "language": "python",
   "name": "python3"
  },
  "language_info": {
   "codemirror_mode": {
    "name": "ipython",
    "version": 3
   },
   "file_extension": ".py",
   "mimetype": "text/x-python",
   "name": "python",
   "nbconvert_exporter": "python",
   "pygments_lexer": "ipython3",
   "version": "3.11.5"
  }
 },
 "nbformat": 4,
 "nbformat_minor": 2
}
