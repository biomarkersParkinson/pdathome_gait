{
 "cells": [
  {
   "cell_type": "markdown",
   "metadata": {},
   "source": [
    "# Detect gait\n",
    "This script use leave-one-subject-out cross-validation (LOSO-CV) to train a classifier on all but one participant (train set) and predict gait on the participant left out (test set). A classifier is subsequently stored by training on all participants.\n",
    "\n",
    "Execution time: "
   ]
  },
  {
   "cell_type": "markdown",
   "metadata": {},
   "source": [
    "### Modules"
   ]
  },
  {
   "cell_type": "code",
   "execution_count": 1,
   "metadata": {},
   "outputs": [],
   "source": [
    "from pdathome.classification import detect_gait\n",
    "from pdathome.constants import participant_ids, paths, classifiers\n",
    "from pdathome.load import load_dataframes_directory"
   ]
  },
  {
   "cell_type": "markdown",
   "metadata": {},
   "source": [
    "### Process data"
   ]
  },
  {
   "cell_type": "code",
   "execution_count": 4,
   "metadata": {},
   "outputs": [],
   "source": [
    "l_test_subjects = participant_ids.L_PD_IDS + participant_ids.L_HC_IDS\n",
    "\n",
    "classifier_bools = {\n",
    "    classifiers.LOGISTIC_REGRESSION: {\n",
    "        'train_test': True,\n",
    "        'store_output': False\n",
    "    },\n",
    "    classifiers.RANDOM_FOREST: {\n",
    "        'train_test': True,\n",
    "        'store_output': False\n",
    "    },\n",
    "}\n",
    "\n",
    "# Load data\n",
    "df_all_subjects = load_dataframes_directory(\n",
    "    directory_path=paths.PATH_GAIT_FEATURES,\n",
    "    l_ids=participant_ids.L_PD_IDS + participant_ids.L_HC_IDS\n",
    ")\n",
    "\n",
    "detect_gait(df_all_subjects, l_test_subjects, classifier_bools)"
   ]
  }
 ],
 "metadata": {
  "kernelspec": {
   "display_name": "gait-3c0zjlKo-py3.11",
   "language": "python",
   "name": "python3"
  },
  "language_info": {
   "codemirror_mode": {
    "name": "ipython",
    "version": 3
   },
   "file_extension": ".py",
   "mimetype": "text/x-python",
   "name": "python",
   "nbconvert_exporter": "python",
   "pygments_lexer": "ipython3",
   "version": "3.11.5"
  }
 },
 "nbformat": 4,
 "nbformat_minor": 2
}
