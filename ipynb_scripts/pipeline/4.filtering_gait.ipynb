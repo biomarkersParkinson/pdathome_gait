{
 "cells": [
  {
   "cell_type": "markdown",
   "metadata": {},
   "source": [
    "# Modules"
   ]
  },
  {
   "cell_type": "code",
   "execution_count": 1,
   "metadata": {},
   "outputs": [],
   "source": [
    "from pdathome.constants import participant_ids\n",
    "from pdathome.classification import train_test_filtering_gait, store_filtering_gait\n",
    "from pdathome.load import load_dataframes_directory"
   ]
  },
  {
   "cell_type": "markdown",
   "metadata": {},
   "source": [
    "# Process data"
   ]
  },
  {
   "cell_type": "code",
   "execution_count": 3,
   "metadata": {},
   "outputs": [],
   "source": [
    "for subject in participant_ids.L_PD_IDS:\n",
    "    train_test_filtering_gait(subject)\n",
    "\n",
    "store_filtering_gait()"
   ]
  }
 ],
 "metadata": {
  "kernelspec": {
   "display_name": "gait-3c0zjlKo-py3.11",
   "language": "python",
   "name": "python3"
  },
  "language_info": {
   "codemirror_mode": {
    "name": "ipython",
    "version": 3
   },
   "file_extension": ".py",
   "mimetype": "text/x-python",
   "name": "python",
   "nbconvert_exporter": "python",
   "pygments_lexer": "ipython3",
   "version": "3.11.5"
  }
 },
 "nbformat": 4,
 "nbformat_minor": 2
}
