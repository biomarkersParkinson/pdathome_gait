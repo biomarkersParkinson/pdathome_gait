{
 "cells": [
  {
   "cell_type": "markdown",
   "metadata": {},
   "source": [
    "# Modules"
   ]
  },
  {
   "cell_type": "code",
   "execution_count": 8,
   "metadata": {},
   "outputs": [],
   "source": [
    "import datetime\n",
    "import json\n",
    "import os\n",
    "import sys\n",
    "\n",
    "# if you are unable to load pdathome.constants, you need to add the path to the src folder to the system path\n",
    "sys.path.append(os.path.abspath(os.path.join('..', 'src')))\n",
    "\n",
    "from IPython.display import clear_output\n",
    "\n",
    "from paradigma.preprocessing_config import IMUPreprocessingConfig\n",
    "\n",
    "from pdathome.constants import *\n",
    "from pdathome.load import load_sensor_data, load_video_annotations\n",
    "from pdathome.preprocessing import determine_wrist_pos, sync_video_annotations, preprocess_video_annotations, \\\n",
    "    preprocess_sensor_data, attach_label_to_signal, determine_med_stage, rotate_axes"
   ]
  },
  {
   "cell_type": "markdown",
   "metadata": {},
   "source": [
    "# Constants"
   ]
  },
  {
   "cell_type": "code",
   "execution_count": 9,
   "metadata": {},
   "outputs": [],
   "source": [
    "l_ids = ['hbv002', 'hbv012', 'hbv053']\n",
    "\n",
    "config = IMUPreprocessingConfig()"
   ]
  },
  {
   "cell_type": "markdown",
   "metadata": {},
   "source": [
    "# Load data"
   ]
  },
  {
   "cell_type": "code",
   "execution_count": 10,
   "metadata": {},
   "outputs": [],
   "source": [
    "with open(os.path.join(PATH_CLINICAL_DATA, 'distribution_participants.json'), 'r') as f:\n",
    "    d_participant_distribution = json.load(f)"
   ]
  },
  {
   "cell_type": "markdown",
   "metadata": {},
   "source": [
    "# Processing"
   ]
  },
  {
   "cell_type": "code",
   "execution_count": 5,
   "metadata": {},
   "outputs": [],
   "source": [
    "for subject in [x for x in L_PD_IDS + L_HC_IDS if x not in l_ids]:\n",
    "    l_time_cols = [config.time_colname]\n",
    "    l_sensor_cols = L_ACCEL_COLS + L_GYRO_COLS\n",
    "    l_other_cols = ['free_living_label']\n",
    "\n",
    "    if subject in L_PD_IDS:\n",
    "        file_sensor_data = 'sensor_data_pd.mat'\n",
    "        path_annotations = PATH_ANNOTATIONS_PD\n",
    "        l_other_cols += ['arm_label', 'pre_or_post']\n",
    "    else:\n",
    "        file_sensor_data = 'sensor_data_controls.mat'\n",
    "        path_annotations = PATH_ANNOTATIONS_CONTROLS\n",
    "\n",
    "    if subject in L_TREMOR_IDS:\n",
    "        l_other_cols += ['tremor_label']\n",
    "\n",
    "    l_cols_to_export = l_time_cols + l_sensor_cols + l_other_cols\n",
    "\n",
    "    l_dfs = []\n",
    "    for side in [MOST_AFFECTED_SIDE, LEAST_AFFECTED_SIDE]:\n",
    "\n",
    "        if os.path.exists(os.path.join(PATH_DATAFRAMES, f'{subject}_{side}.pkl')):\n",
    "            continue\n",
    "        \n",
    "        print(f\"Time {datetime.datetime.now()} - {subject} {side} - Loading data ...\")\n",
    "\n",
    "        ## loading_annotations\n",
    "        wrist_pos = determine_wrist_pos(subject, side, d_participant_distribution)\n",
    "        df_sensors, peakstart, peakend = load_sensor_data(PATH_SENSOR_DATA, file_sensor_data, 'phys', subject, wrist_pos)\n",
    "\n",
    "        if subject in L_PD_IDS:\n",
    "            df_annotations_part_1, df_annotations_part_2 = load_video_annotations(path_annotations, subject)\n",
    "            df_annotations = sync_video_annotations(df_annotations_part_1, df_annotations_part_2, peakstart, peakend)\n",
    "        else:\n",
    "            df_annotations = load_video_annotations(path_annotations, subject)\n",
    "\n",
    "        df_annotations = preprocess_video_annotations(df_annotations, D_LABELS, D_TIERS_MAP)\n",
    "        \n",
    "        ## merging\n",
    "        df_sensors['side'] = side\n",
    "\n",
    "        print(f\"Time {datetime.datetime.now()} - {subject} {side} - Merging data ...\")\n",
    "\n",
    "        df_sensors = preprocess_sensor_data(df_sensors)\n",
    "\n",
    "        df_sensors = attach_label_to_signal(df_sensors, df_annotations, 'label', 'tier', 'start_s', 'end_s')\n",
    "\n",
    "        if subject in L_PD_IDS:\n",
    "            if wrist_pos == RIGHT_WRIST:\n",
    "                df_sensors['arm_label'] = df_sensors['right_arm_label']\n",
    "            else:\n",
    "                df_sensors['arm_label'] = df_sensors['left_arm_label']\n",
    "\n",
    "            df_sensors['arm_label'] = df_sensors['arm_label'].fillna('non_gait')\n",
    "\n",
    "        ## 2.filtering\n",
    "        print(f\"Time {datetime.datetime.now()} - {subject} {side} - Preprocessing data ...\")\n",
    "\n",
    "        df_sensors = determine_med_stage(df=df_sensors, subject=subject,\n",
    "                                         watch_side=side,\n",
    "                                         path_annotations=path_annotations)\n",
    "        df_sensors = rotate_axes(df=df_sensors, subject=subject, wrist=wrist_pos)\n",
    "\n",
    "        df_sensors = df_sensors.loc[~df_sensors['free_living_label'].isna()]\n",
    "        df_sensors = df_sensors.loc[df_sensors['free_living_label']!='Unknown']\n",
    "        df_sensors = df_sensors.reset_index(drop=True)\n",
    "\n",
    "        l_drop_cols = ['clinical_tests_label']\n",
    "        if subject in L_PD_IDS:\n",
    "            l_drop_cols += ['med_and_motor_status_label', 'left_arm_label', 'right_arm_label']\n",
    "\n",
    "        df_sensors = df_sensors.drop(columns=l_drop_cols)\n",
    "\n",
    "        # temporarily store as pickle until tsdf issue is resolved\n",
    "        df_sensors[l_cols_to_export].to_pickle(os.path.join(PATH_DATAFRAMES, f'{subject}_{side}.pkl'))\n",
    "\n",
    "        clear_output(wait=False)\n"
   ]
  }
 ],
 "metadata": {
  "kernelspec": {
   "display_name": "gait-3c0zjlKo-py3.11",
   "language": "python",
   "name": "python3"
  },
  "language_info": {
   "codemirror_mode": {
    "name": "ipython",
    "version": 3
   },
   "file_extension": ".py",
   "mimetype": "text/x-python",
   "name": "python",
   "nbconvert_exporter": "python",
   "pygments_lexer": "ipython3",
   "version": "3.11.5"
  }
 },
 "nbformat": 4,
 "nbformat_minor": 2
}
