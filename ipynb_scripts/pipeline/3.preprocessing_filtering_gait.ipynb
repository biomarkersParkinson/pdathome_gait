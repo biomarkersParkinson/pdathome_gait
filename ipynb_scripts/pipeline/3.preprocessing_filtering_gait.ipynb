{
 "cells": [
  {
   "cell_type": "markdown",
   "metadata": {},
   "source": [
    "# Modules"
   ]
  },
  {
   "cell_type": "code",
   "execution_count": 2,
   "metadata": {},
   "outputs": [],
   "source": [
    "from pdathome.constants import participant_ids\n",
    "from pdathome.preprocessing import preprocess_filtering_gait"
   ]
  },
  {
   "cell_type": "markdown",
   "metadata": {},
   "source": [
    "# Process data"
   ]
  },
  {
   "cell_type": "code",
   "execution_count": 3,
   "metadata": {},
   "outputs": [
    {
     "name": "stdout",
     "output_type": "stream",
     "text": [
      "Time 2024-09-24 12:47:02.777215 - hbv002 MAS - Processing ...\n",
      "Time 2024-09-24 12:47:06.220433 - hbv002 LAS - Processing ...\n",
      "Time 2024-09-24 12:47:09.826666 - hbv012 MAS - Processing ...\n",
      "Time 2024-09-24 12:47:14.076919 - hbv012 LAS - Processing ...\n",
      "Time 2024-09-24 12:47:19.660629 - hbv014 MAS - Processing ...\n",
      "Time 2024-09-24 12:47:23.360721 - hbv014 LAS - Processing ...\n",
      "Time 2024-09-24 12:47:26.831734 - hbv015 MAS - Processing ...\n",
      "Time 2024-09-24 12:47:30.596979 - hbv015 LAS - Processing ...\n",
      "Time 2024-09-24 12:47:34.897765 - hbv016 MAS - Processing ...\n",
      "Time 2024-09-24 12:47:38.043079 - hbv016 LAS - Processing ...\n",
      "Time 2024-09-24 12:47:41.600524 - hbv017 MAS - Processing ...\n",
      "Time 2024-09-24 12:47:44.788618 - hbv017 LAS - Processing ...\n",
      "Time 2024-09-24 12:47:48.563333 - hbv022 MAS - Processing ...\n",
      "Time 2024-09-24 12:47:52.000535 - hbv022 LAS - Processing ...\n",
      "Time 2024-09-24 12:47:55.571543 - hbv024 MAS - Processing ...\n",
      "Time 2024-09-24 12:47:59.826997 - hbv024 LAS - Processing ...\n",
      "Time 2024-09-24 12:48:04.340704 - hbv039 MAS - Processing ...\n",
      "Time 2024-09-24 12:48:07.870620 - hbv039 LAS - Processing ...\n",
      "Time 2024-09-24 12:48:12.255635 - hbv043 MAS - Processing ...\n",
      "Time 2024-09-24 12:48:15.264724 - hbv043 LAS - Processing ...\n",
      "Time 2024-09-24 12:48:18.817324 - hbv047 MAS - Processing ...\n",
      "Time 2024-09-24 12:48:22.299553 - hbv047 LAS - Processing ...\n",
      "Time 2024-09-24 12:48:26.189482 - hbv054 MAS - Processing ...\n",
      "Time 2024-09-24 12:48:28.526554 - hbv054 LAS - Processing ...\n",
      "Time 2024-09-24 12:48:31.186604 - hbv065 MAS - Processing ...\n",
      "Time 2024-09-24 12:48:34.033974 - hbv065 LAS - Processing ...\n",
      "Time 2024-09-24 12:48:36.808363 - hbv077 MAS - Processing ...\n",
      "Time 2024-09-24 12:48:40.926808 - hbv077 LAS - Processing ...\n",
      "Time 2024-09-24 12:48:45.800418 - hbv079 MAS - Processing ...\n",
      "Time 2024-09-24 12:48:50.170671 - hbv079 LAS - Processing ...\n",
      "Time 2024-09-24 12:48:55.211716 - hbv090 MAS - Processing ...\n",
      "Time 2024-09-24 12:49:00.515551 - hbv090 LAS - Processing ...\n",
      "Time 2024-09-24 12:49:06.535202 - hbv013 MAS - Processing ...\n",
      "Time 2024-09-24 12:49:08.990407 - hbv013 LAS - Processing ...\n",
      "Time 2024-09-24 12:49:11.632415 - hbv018 MAS - Processing ...\n",
      "Time 2024-09-24 12:49:15.236888 - hbv018 LAS - Processing ...\n",
      "Time 2024-09-24 12:49:18.597783 - hbv023 MAS - Processing ...\n",
      "Time 2024-09-24 12:49:24.344578 - hbv023 LAS - Processing ...\n",
      "Time 2024-09-24 12:49:31.121048 - hbv038 MAS - Processing ...\n",
      "Time 2024-09-24 12:49:35.011448 - hbv038 LAS - Processing ...\n",
      "Time 2024-09-24 12:49:39.691621 - hbv058 MAS - Processing ...\n",
      "Time 2024-09-24 12:49:42.697764 - hbv058 LAS - Processing ...\n",
      "Time 2024-09-24 12:49:45.637127 - hbv063 MAS - Processing ...\n",
      "Time 2024-09-24 12:49:48.841593 - hbv063 LAS - Processing ...\n"
     ]
    }
   ],
   "source": [
    "for subject in participant_ids.L_PD_IDS: #  + participant_ids.L_HC_IDS:\n",
    "    preprocess_filtering_gait(subject)"
   ]
  }
 ],
 "metadata": {
  "kernelspec": {
   "display_name": "gait-3c0zjlKo-py3.11",
   "language": "python",
   "name": "python3"
  },
  "language_info": {
   "codemirror_mode": {
    "name": "ipython",
    "version": 3
   },
   "file_extension": ".py",
   "mimetype": "text/x-python",
   "name": "python",
   "nbconvert_exporter": "python",
   "pygments_lexer": "ipython3",
   "version": "3.11.5"
  }
 },
 "nbformat": 4,
 "nbformat_minor": 2
}
