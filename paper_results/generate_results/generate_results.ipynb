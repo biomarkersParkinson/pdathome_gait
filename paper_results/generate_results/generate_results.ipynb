{
 "cells": [
  {
   "cell_type": "markdown",
   "metadata": {},
   "source": [
    "# Modules"
   ]
  },
  {
   "cell_type": "code",
   "execution_count": 1,
   "metadata": {},
   "outputs": [],
   "source": [
    "%load_ext autoreload\n",
    "%autoreload 2\n",
    "\n",
    "from pdathome.constants import global_constants as gc\n",
    "from pdathome.evaluation import generate_results"
   ]
  },
  {
   "cell_type": "markdown",
   "metadata": {},
   "source": [
    "# Process"
   ]
  },
  {
   "cell_type": "code",
   "execution_count": 2,
   "metadata": {},
   "outputs": [
    {
     "name": "stdout",
     "output_type": "stream",
     "text": [
      "------------------- Step: arm_activity -------------------\n",
      "Processing hbv002 - arm_activity...\n",
      "Processing hbv012 - arm_activity...\n",
      "Processing hbv014 - arm_activity...\n",
      "Processing hbv015 - arm_activity...\n",
      "Processing hbv016 - arm_activity...\n",
      "Processing hbv017 - arm_activity...\n",
      "Processing hbv022 - arm_activity...\n",
      "Processing hbv024 - arm_activity...\n",
      "Processing hbv039 - arm_activity...\n",
      "Processing hbv043 - arm_activity...\n",
      "Processing hbv054 - arm_activity...\n",
      "Processing hbv065 - arm_activity...\n",
      "Processing hbv077 - arm_activity...\n",
      "Processing hbv079 - arm_activity...\n",
      "Processing hbv090 - arm_activity...\n",
      "Processing hbv013 - arm_activity...\n",
      "Processing hbv018 - arm_activity...\n",
      "Processing hbv023 - arm_activity...\n",
      "Processing hbv038 - arm_activity...\n",
      "Processing hbv058 - arm_activity...\n",
      "Processing hbv063 - arm_activity...\n",
      "Processing hbv053 - arm_activity...\n",
      "Processing hbv072 - arm_activity...\n",
      "Processing hbv073 - arm_activity...\n",
      "Processing hbv082 - arm_activity...\n",
      "Processing hbv083 - arm_activity...\n",
      "Processing hbv084 - arm_activity...\n",
      "Processing hbv087 - arm_activity...\n",
      "Processing hbv091 - arm_activity...\n",
      "Processing hbv093 - arm_activity...\n",
      "Processing hbv097 - arm_activity...\n",
      "Processing hbv099 - arm_activity...\n",
      "Processing hbv100 - arm_activity...\n",
      "Processing hbv106 - arm_activity...\n",
      "Processing hbv108 - arm_activity...\n",
      "Processing hbv109 - arm_activity...\n",
      "Processing hbv110 - arm_activity...\n",
      "Processing hbv112 - arm_activity...\n",
      "Processing hbv115 - arm_activity...\n",
      "Processing hbv117 - arm_activity...\n",
      "Processing hbv122 - arm_activity...\n",
      "Processing hbv128 - arm_activity...\n",
      "Processing hbv136 - arm_activity...\n",
      "Processing hbv081 - arm_activity...\n"
     ]
    }
   ],
   "source": [
    "steps = ['arm_activity']\n",
    "\n",
    "for step in steps:\n",
    "    print(f\"------------------- Step: {step} -------------------\")\n",
    "    for subject in gc.participant_ids.PD_IDS + gc.participant_ids.HC_IDS:\n",
    "        generate_results(subject, step=step)"
   ]
  }
 ],
 "metadata": {
  "kernelspec": {
   "display_name": "pd-at-home-4UNzdMX4-py3.11",
   "language": "python",
   "name": "python3"
  },
  "language_info": {
   "codemirror_mode": {
    "name": "ipython",
    "version": 3
   },
   "file_extension": ".py",
   "mimetype": "text/x-python",
   "name": "python",
   "nbconvert_exporter": "python",
   "pygments_lexer": "ipython3",
   "version": "3.11.5"
  }
 },
 "nbformat": 4,
 "nbformat_minor": 2
}
