{
 "cells": [
  {
   "cell_type": "markdown",
   "metadata": {},
   "source": [
    "# Modules"
   ]
  },
  {
   "cell_type": "code",
   "execution_count": 1,
   "metadata": {},
   "outputs": [],
   "source": [
    "%load_ext autoreload\n",
    "%autoreload 2\n",
    "\n",
    "import json\n",
    "import os\n",
    "import pandas as pd\n",
    "\n",
    "from pdathome.constants import global_constants as gc\n",
    "from pdathome.evaluation import generate_results"
   ]
  },
  {
   "cell_type": "markdown",
   "metadata": {},
   "source": [
    "# Process"
   ]
  },
  {
   "cell_type": "code",
   "execution_count": 1,
   "metadata": {},
   "outputs": [],
   "source": [
    "l_steps = ['quantification']\n",
    "\n",
    "d_output = {}\n",
    "df_diff = pd.DataFrame()\n",
    "\n",
    "for step in l_steps:\n",
    "    print(f\"--- Step: {step} ---\")\n",
    "    d_output[step] = {}\n",
    "    for subject in gc.participant_ids.L_PD_IDS: # + gc.participant_ids.L_HC_IDS:\n",
    "        print(f\"Processing {subject} ...\")\n",
    "        if step in ['gait', 'arm_activity']:\n",
    "            d_output[step][subject] = generate_results(subject, step=step)\n",
    "        else:\n",
    "            d_output[step][subject], df_diff_subject = generate_results(subject, step=step)\n",
    "            df_diff = pd.concat([df_diff, df_diff_subject])\n",
    "\n",
    "    with open(os.path.join(gc.paths.PATH_OUTPUT, 'results.json'), 'w') as f:\n",
    "        json.dump(d_output, f, indent=4)\n",
    "\n",
    "    if not df_diff.empty:\n",
    "        df_diff.to_pickle(os.path.join(gc.paths.PATH_OUTPUT, 'df_diff.pkl'), index=False)\n"
   ]
  }
 ],
 "metadata": {
  "kernelspec": {
   "display_name": "pd-at-home-4UNzdMX4-py3.11",
   "language": "python",
   "name": "python3"
  },
  "language_info": {
   "codemirror_mode": {
    "name": "ipython",
    "version": 3
   },
   "file_extension": ".py",
   "mimetype": "text/x-python",
   "name": "python",
   "nbconvert_exporter": "python",
   "pygments_lexer": "ipython3",
   "version": "3.11.5"
  }
 },
 "nbformat": 4,
 "nbformat_minor": 2
}
