{
 "cells": [
  {
   "cell_type": "markdown",
   "metadata": {},
   "source": [
    "# Detect gait\n",
    "This script use leave-one-subject-out cross-validation (LOSO-CV) to train a classifier on all but one participant (train set) and predict gait on the participant left out (test set). A classifier is subsequently stored by training on all participants.\n",
    "\n",
    "Execution time: "
   ]
  },
  {
   "cell_type": "markdown",
   "metadata": {},
   "source": [
    "### Modules"
   ]
  },
  {
   "cell_type": "code",
   "execution_count": 1,
   "metadata": {},
   "outputs": [],
   "source": [
    "from pdathome.classification import train_test_gait_detection, store_gait_detection\n",
    "from pdathome.constants import participant_ids, classifiers"
   ]
  },
  {
   "cell_type": "markdown",
   "metadata": {},
   "source": [
    "### Constants"
   ]
  },
  {
   "cell_type": "code",
   "execution_count": 2,
   "metadata": {},
   "outputs": [],
   "source": [
    "l_classifiers = [classifiers.RANDOM_FOREST]"
   ]
  },
  {
   "cell_type": "markdown",
   "metadata": {},
   "source": [
    "### Process data"
   ]
  },
  {
   "cell_type": "code",
   "execution_count": 3,
   "metadata": {},
   "outputs": [
    {
     "name": "stdout",
     "output_type": "stream",
     "text": [
      "Training and testing gait detection for subject hbv002\n",
      "... Processing subject hbv002 ...\n",
      "Training and testing gait detection for subject hbv012\n",
      "... Processing subject hbv012 ...\n",
      "Training and testing gait detection for subject hbv014\n",
      "... Processing subject hbv014 ...\n",
      "Training and testing gait detection for subject hbv015\n",
      "... Processing subject hbv015 ...\n",
      "Training and testing gait detection for subject hbv016\n",
      "... Processing subject hbv016 ...\n",
      "Training and testing gait detection for subject hbv017\n",
      "... Processing subject hbv017 ...\n",
      "Training and testing gait detection for subject hbv022\n",
      "... Processing subject hbv022 ...\n",
      "Training and testing gait detection for subject hbv024\n",
      "... Processing subject hbv024 ...\n"
     ]
    }
   ],
   "source": [
    "for subject in participant_ids.L_PD_IDS + participant_ids.L_PD_IDS:\n",
    "    print(f\"Training and testing gait detection for subject {subject}\")\n",
    "    train_test_gait_detection(subject, l_classifiers=l_classifiers)\n",
    "\n",
    "for classifier in l_classifiers:\n",
    "    store_gait_detection(classifier)"
   ]
  }
 ],
 "metadata": {
  "kernelspec": {
   "display_name": "gait-3c0zjlKo-py3.11",
   "language": "python",
   "name": "python3"
  },
  "language_info": {
   "codemirror_mode": {
    "name": "ipython",
    "version": 3
   },
   "file_extension": ".py",
   "mimetype": "text/x-python",
   "name": "python",
   "nbconvert_exporter": "python",
   "pygments_lexer": "ipython3",
   "version": "3.11.5"
  }
 },
 "nbformat": 4,
 "nbformat_minor": 2
}
